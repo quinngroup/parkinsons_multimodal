{
 "cells": [
  {
   "cell_type": "code",
   "execution_count": 1,
   "metadata": {},
   "outputs": [],
   "source": [
    "import torch\n",
    "import torch.nn as nn\n",
    "import torch.nn.functional as F\n",
    "from torchvision import datasets, transforms\n",
    "import torch.optim as optim\n",
    "from torchvision.utils import make_grid\n",
    "import numpy as np\n",
    "import matplotlib.pyplot as plt\n",
    "%matplotlib inline\n",
    "import umap\n",
    "from scipy.signal import savgol_filter\n",
    "import sys\n",
    "from torch.utils.tensorboard import SummaryWriter"
   ]
  },
  {
   "cell_type": "markdown",
   "metadata": {},
   "source": [
    "# Model"
   ]
  },
  {
   "cell_type": "code",
   "execution_count": 2,
   "metadata": {},
   "outputs": [],
   "source": [
    "\"\"\"\n",
    "Module representing a vector quantization layer. Takes input data, reshapes it\n",
    "from BCHW to BHWC, flattens it to (BHW, C), then looks up the nearest vector in\n",
    "an embedding for al BHW vectors.\n",
    "\"\"\"\n",
    "class VectorQuantizer(nn.Module):\n",
    "\n",
    "    \"\"\"\n",
    "    Constructor to create layer. Uses num_embeddings and embedding_dim to create\n",
    "    and embedding layer, where embedding_dim (D in reference paper) must match the \n",
    "    C of the input data that will be passed in. Beta is equivalent to commitment \n",
    "    cost.\n",
    "    \"\"\"\n",
    "    def __init__(self, num_embeddings, embedding_dim, beta, decay=0.99, epsilon=1e-5):\n",
    "\n",
    "        super(VectorQuantizer, self).__init__()\n",
    "\n",
    "        self._embedding_dim = embedding_dim\n",
    "        self._num_embeddings = num_embeddings\n",
    "        self.beta = beta\n",
    "\n",
    "        # Initializing embedding\n",
    "        self._embedding = nn.Embedding(self._num_embeddings, self._embedding_dim)\n",
    "        self._embedding.weight.data.normal_()\n",
    "        \n",
    "        self.register_buffer('_ema_cluster_size', torch.zeros(num_embeddings))\n",
    "        self._ema_w = nn.Parameter(torch.Tensor(num_embeddings, self._embedding_dim))\n",
    "        self._ema_w.data.normal_()\n",
    "        \n",
    "        self._decay = decay\n",
    "        self._epsilon = epsilon\n",
    "\n",
    "    \"\"\"\n",
    "    Defines forward pass of data through the quantization layer. \n",
    "    \"\"\"\n",
    "    def forward(self, x):\n",
    "\n",
    "        # Convert inputs from BCHW to BHWC then flattens to (BHW, C)\n",
    "        x = x.permute(0, 2, 3, 1).contiguous()\n",
    "        input_shape = x.shape\n",
    "        flat_x = x.view(-1, self._embedding_dim) #(-1, 1, 1, K)\n",
    "\n",
    "        # Calculate distances from each vector in the flattened input to vectors\n",
    "        # in the embedding according to ||z - e||2 Where z is vector of input data\n",
    "        # and e is a vector in the embedding. Output will be (BHW, D).\n",
    "        distances = (torch.sum(flat_x**2, dim=1, keepdim=True) \n",
    "            + torch.sum(self._embedding.weight**2, dim=1)\n",
    "            - 2 * torch.matmul(flat_x, self._embedding.weight.t()))\n",
    "\n",
    "        # Take argmin to find the closest matching vector in embedding to the input\n",
    "        # vectors. This give the indices of the vectors from the embedding to be\n",
    "        # used which will be quantized and unflattened.\n",
    "        encoding_indices = torch.argmin(distances, dim=1).unsqueeze(1)\n",
    "        encodings = torch.zeros(encoding_indices.shape[0], self._num_embeddings, device=x.device)\n",
    "        encodings.scatter_(1, encoding_indices, 1)\n",
    "        quantized = torch.matmul(encodings, self._embedding.weight).view(input_shape)\n",
    "\n",
    "        # Use EMA to update the embedding vectors\n",
    "        if self.training:\n",
    "            self._ema_cluster_size = self._ema_cluster_size * self._decay + \\\n",
    "                                     (1 - self._decay) * torch.sum(encodings, 0)\n",
    "            \n",
    "            # Laplace smoothing of the cluster size\n",
    "            n = torch.sum(self._ema_cluster_size.data)\n",
    "            self._ema_cluster_size = (\n",
    "                (self._ema_cluster_size + self._epsilon)\n",
    "                / (n + self._num_embeddings * self._epsilon) * n)\n",
    "            \n",
    "            dw = torch.matmul(encodings.t(), flat_x)\n",
    "            self._ema_w = nn.Parameter(self._ema_w * self._decay + (1 - self._decay) * dw)\n",
    "            \n",
    "            self._embedding.weight = nn.Parameter(self._ema_w / self._ema_cluster_size.unsqueeze(1))\n",
    "        \n",
    "        # Loss\n",
    "        e_latent_loss = F.mse_loss(quantized.detach(), x)\n",
    "        loss = self.beta * e_latent_loss\n",
    "        \n",
    "        # Straight Through Estimator\n",
    "        quantized = x + (quantized - x).detach()\n",
    "        avg_probs = torch.mean(encodings, dim=0)\n",
    "        perplexity = torch.exp(-torch.sum(avg_probs * torch.log(avg_probs + 1e-10)))\n",
    "        \n",
    "        # convert quantized from BHWC -> BCHW\n",
    "        return loss, quantized.permute(0, 3, 1, 2).contiguous(), perplexity, encodings"
   ]
  },
  {
   "cell_type": "code",
   "execution_count": 3,
   "metadata": {},
   "outputs": [],
   "source": [
    "\"\"\"\n",
    "Single residual layer as parts of ResNets. Each block is implemented as\n",
    "A 2D convolution operation, relu, 2D convolution operation, relu, followed\n",
    "by a 2D convolution operation to match output channels. The output of this \n",
    "is then added to the input.\n",
    "\"\"\"\n",
    "class ResidualBlock(nn.Module):\n",
    "\n",
    "    \"\"\"\n",
    "    Constructor to build a residual block.\n",
    "    \"\"\"\n",
    "    def __init__(self, in_channels, residual_hiddens=256):\n",
    "\n",
    "        super(ResidualBlock, self).__init__()\n",
    "\n",
    "        # TODO Batch norm?\n",
    "        self.residual_block = nn.Sequential(\n",
    "\n",
    "            nn.Conv2d(in_channels, residual_hiddens,\n",
    "                kernel_size=3, padding=1),\n",
    "            \n",
    "            nn.ReLU(True),\n",
    "            \n",
    "            nn.Conv2d(residual_hiddens, in_channels,\n",
    "                kernel_size=1),\n",
    "            \n",
    "            nn.ReLU(True)\n",
    "        )\n",
    "\n",
    "    \"\"\"\n",
    "    Defines forward pass through the residual block where the\n",
    "    input is added to output of conv operations.\n",
    "    \"\"\"\n",
    "    def forward(self, x):\n",
    "\n",
    "        return x + self.residual_block(x)"
   ]
  },
  {
   "cell_type": "code",
   "execution_count": 4,
   "metadata": {},
   "outputs": [],
   "source": [
    "\"\"\"\n",
    "Encoder pipeline of the VQ-VAE. Contains the convolutional \n",
    "residual blocks.\n",
    "\"\"\"\n",
    "class Encoder(nn.Module):\n",
    "\n",
    "    \"\"\"\n",
    "    Encoder constructor.\n",
    "    \"\"\"\n",
    "    def __init__(self):\n",
    "\n",
    "        super(Encoder, self).__init__()\n",
    "\n",
    "        self.convs = nn.Sequential(\n",
    "        \n",
    "            nn.Conv2d(3, 16, 4, stride=2, padding=1),\n",
    "            nn.ReLU(True),\n",
    "            nn.Conv2d(16, 32, 3, padding=1)\n",
    "        \n",
    "        )\n",
    "        \n",
    "        self.residual_stack = nn.Sequential(\n",
    "\n",
    "            ResidualBlock(32),\n",
    "            ResidualBlock(32),\n",
    "            ResidualBlock(32),\n",
    "            nn.ReLU(True)\n",
    "\n",
    "        )\n",
    "\n",
    "    \"\"\"\n",
    "    Defines forward pass through the encoder.\n",
    "    \"\"\"\n",
    "    def forward(self, x):\n",
    "\n",
    "        x = self.convs(x)\n",
    "        return self.residual_stack(x)"
   ]
  },
  {
   "cell_type": "code",
   "execution_count": 5,
   "metadata": {},
   "outputs": [],
   "source": [
    "\"\"\"\n",
    "Decoder pipeline of the VQ-VAE. Contains the deconvolutional \n",
    "residual blocks\n",
    "\"\"\"\n",
    "class Decoder(nn.Module):\n",
    "\n",
    "    \"\"\"\n",
    "    Decoder constructor.\n",
    "    \"\"\"\n",
    "    def __init__(self):\n",
    "\n",
    "        super(Decoder, self).__init__()\n",
    "        \n",
    "        self.conv = nn.Conv2d(64, 32, 3, stride=1, padding=1)\n",
    "\n",
    "        self.residual_stack = nn.Sequential(\n",
    "\n",
    "\n",
    "            ResidualBlock(32),\n",
    "            ResidualBlock(32),\n",
    "            ResidualBlock(32),\n",
    "            nn.ReLU(True)\n",
    "\n",
    "        )\n",
    "        \n",
    "        self.conv_trans = nn.Sequential(\n",
    "        \n",
    "            nn.ConvTranspose2d(32, 16, 3, padding=1),\n",
    "            nn.ReLU(True),\n",
    "            nn.ConvTranspose2d(16, 3, 4, stride=2, padding=1)\n",
    "            \n",
    "        )\n",
    "\n",
    "    \"\"\"\n",
    "    Defines forward pass through the decoder.\n",
    "    \"\"\"\n",
    "    def forward(self, x):\n",
    "        \n",
    "        x = self.conv(x)\n",
    "        x = self.residual_stack(x)\n",
    "        return self.conv_trans(x)"
   ]
  },
  {
   "cell_type": "code",
   "execution_count": 6,
   "metadata": {},
   "outputs": [],
   "source": [
    "\"\"\"\n",
    "Full VQ-VAE model that combines the flow of input data through the\n",
    "encoder, quantization block, and decoder.\n",
    "\"\"\"\n",
    "class VVQModel(nn.Module):\n",
    "\n",
    "    \"\"\"\n",
    "    VQ-VAE constructor that takes parameters for the quantization block.\n",
    "    \"\"\"\n",
    "    def __init__(self, num_embeddings, embedding_dim, beta):\n",
    "\n",
    "        super(VVQModel, self).__init__()\n",
    "\n",
    "        self.encoder = Encoder()\n",
    "        self.conv = nn.Conv2d(32, 64, 3, padding=1)\n",
    "        self.decoder = Decoder()\n",
    "\n",
    "        self.vector_quantizer = VectorQuantizer(\n",
    "            num_embeddings=num_embeddings, \n",
    "            embedding_dim=embedding_dim, \n",
    "            beta=beta)\n",
    "\n",
    "    \"\"\"\n",
    "    Defines forward pass through the VQ-VAE and returns\n",
    "    necessary loss metrics.\n",
    "    \"\"\"\n",
    "    def forward(self, x):\n",
    "\n",
    "        x = self.encoder(x)\n",
    "        x = self.conv(x)\n",
    "        loss, quantized, perplexity, _ = self.vector_quantizer(x)\n",
    "        x_recon = self.decoder(quantized)\n",
    "\n",
    "        return loss, x_recon, perplexity"
   ]
  },
  {
   "cell_type": "markdown",
   "metadata": {},
   "source": [
    "# Data Loading"
   ]
  },
  {
   "cell_type": "code",
   "execution_count": 7,
   "metadata": {},
   "outputs": [
    {
     "name": "stdout",
     "output_type": "stream",
     "text": [
      "Files already downloaded and verified\n",
      "Files already downloaded and verified\n"
     ]
    }
   ],
   "source": [
    "# download and transform train dataset\n",
    "train_data = datasets.CIFAR10(root=\"data\", train=True, download=True,\n",
    "                                  transform=transforms.Compose([\n",
    "                                      transforms.ToTensor(),\n",
    "                                      transforms.Normalize((0.5,0.5,0.5), (1.0,1.0,1.0))\n",
    "                                  ]))\n",
    "\n",
    "train_dataloader = torch.utils.data.DataLoader(train_data, \n",
    "                             batch_size=256, \n",
    "                             shuffle=True,\n",
    "                             pin_memory=True)\n",
    "\n",
    "# download and transform test dataset\n",
    "test_data = datasets.CIFAR10(root=\"data\", train=False, download=True,\n",
    "                                  transform=transforms.Compose([\n",
    "                                      transforms.ToTensor(),\n",
    "                                      transforms.Normalize((0.5,0.5,0.5), (1.0,1.0,1.0))\n",
    "                                  ]))\n",
    "\n",
    "test_dataloader = torch.utils.data.DataLoader(test_data,\n",
    "                               batch_size=32,\n",
    "                               shuffle=True,\n",
    "                               pin_memory=True)"
   ]
  },
  {
   "cell_type": "markdown",
   "metadata": {},
   "source": [
    "# Model Training"
   ]
  },
  {
   "cell_type": "code",
   "execution_count": 8,
   "metadata": {},
   "outputs": [
    {
     "name": "stderr",
     "output_type": "stream",
     "text": [
      "/home/myid/asp55565/miniconda3/envs/PD/lib/python3.8/site-packages/torch/nn/parallel/_functions.py:61: UserWarning: Was asked to gather along dimension 0, but all input tensors were scalars; will instead unsqueeze and return a vector.\n",
      "  warnings.warn('Was asked to gather along dimension 0, but all '\n"
     ]
    },
    {
     "name": "stdout",
     "output_type": "stream",
     "text": [
      "Epoch- 70"
     ]
    }
   ],
   "source": [
    "\"\"\"\n",
    "HYPERPARAMETERS\n",
    "\"\"\"\n",
    "learning_rate = 1e-3\n",
    "num_embeddings = 512\n",
    "num_epochs = 70\n",
    "embedding_dim = 64\n",
    "beta = 0.25\n",
    "\"\"\"\n",
    "HYPERPARAMETERS\n",
    "\"\"\"\n",
    "\n",
    "model = nn.DataParallel(VVQModel(\n",
    "    num_embeddings = num_embeddings,\n",
    "    embedding_dim = embedding_dim,\n",
    "    beta = beta\n",
    ")).to(torch.device('cuda'))\n",
    "\n",
    "train_res_recon_error = []\n",
    "train_res_perplexity = []\n",
    "\n",
    "optimizer = optim.Adam(model.parameters(), lr=learning_rate, amsgrad=False)\n",
    "data_variance = np.var(train_data.data / 255.0)\n",
    "\n",
    "writer = SummaryWriter()\n",
    "\n",
    "for epoch in range(num_epochs):\n",
    "\n",
    "    epoch_recon_error = 0\n",
    "    epoch_perplexity_error = 0\n",
    "    \n",
    "    model.train()\n",
    "    \n",
    "    for batch, _ in train_dataloader:\n",
    "        batch = batch.to(torch.device('cuda'))\n",
    "        optimizer.zero_grad()\n",
    "        vq_loss, data_reconstructed, perplexity = model(batch)\n",
    "\n",
    "        reconstructed_error = F.mse_loss(data_reconstructed, batch) / data_variance\n",
    "        loss = reconstructed_error + vq_loss\n",
    "        loss.sum().backward()\n",
    "        optimizer.step()\n",
    "\n",
    "        epoch_recon_error += reconstructed_error.item()\n",
    "        epoch_perplexity_error += perplexity.sum(dim=0).item()\n",
    "        \n",
    "        \n",
    "    epoch_recon_error = epoch_recon_error / len(train_dataloader.dataset)\n",
    "    epoch_perplexity_error = epoch_perplexity_error / len(train_dataloader.dataset)\n",
    "    \n",
    "    writer.add_scalar('Training Reconstruction Loss', epoch_recon_error, epoch)\n",
    "    writer.add_scalar('Training Perplexity', epoch_perplexity_error, epoch)\n",
    "    \n",
    "    train_res_recon_error.append(epoch_recon_error)\n",
    "    train_res_perplexity.append(epoch_perplexity_error)\n",
    "\n",
    "    sys.stdout.write('\\rEpoch- %d' % (epoch + 1))"
   ]
  },
  {
   "cell_type": "markdown",
   "metadata": {},
   "source": [
    "# Error Visualization"
   ]
  },
  {
   "cell_type": "code",
   "execution_count": 9,
   "metadata": {},
   "outputs": [
    {
     "data": {
      "text/plain": [
       "Text(0.5, 0, 'iteration')"
      ]
     },
     "execution_count": 9,
     "metadata": {},
     "output_type": "execute_result"
    },
    {
     "data": {
      "image/png": "[encoded data removed]",
      "text/plain": [
       "<Figure size 1152x576 with 2 Axes>"
      ]
     },
     "metadata": {
      "needs_background": "light"
     },
     "output_type": "display_data"
    }
   ],
   "source": [
    "train_res_recon_error_smooth = train_res_recon_error\n",
    "train_res_perplexity_smooth = train_res_perplexity\n",
    "# train_res_recon_error_smooth = savgol_filter(train_res_recon_error, 201, 7)\n",
    "# train_res_perplexity_smooth = savgol_filter(train_res_perplexity, 201, 7)\n",
    "\n",
    "f = plt.figure(figsize=(16,8))\n",
    "ax = f.add_subplot(1,2,1)\n",
    "ax.plot(train_res_recon_error_smooth)\n",
    "ax.set_title('MSE.')\n",
    "ax.set_xlabel('iteration')\n",
    "\n",
    "ax = f.add_subplot(1,2,2)\n",
    "ax.plot(train_res_perplexity_smooth)\n",
    "ax.set_title('Average codebook usage (perplexity).')\n",
    "ax.set_xlabel('iteration')"
   ]
  },
  {
   "cell_type": "markdown",
   "metadata": {},
   "source": [
    "# Model Evaluation Visualization"
   ]
  },
  {
   "cell_type": "code",
   "execution_count": 17,
   "metadata": {},
   "outputs": [
    {
     "name": "stderr",
     "output_type": "stream",
     "text": [
      "WARNING:matplotlib.image:Clipping input data to the valid range for imshow with RGB data ([0..1] for floats or [0..255] for integers).\n"
     ]
    },
    {
     "data": {
      "text/plain": [
       "Text(0.5, 1.0, 'Reconstructed Input')"
      ]
     },
     "execution_count": 17,
     "metadata": {},
     "output_type": "execute_result"
    },
    {
     "data": {
      "image/png": "[encoded data removed]",
      "text/plain": [
       "<Figure size 1152x576 with 2 Axes>"
      ]
     },
     "metadata": {
      "needs_background": "light"
     },
     "output_type": "display_data"
    }
   ],
   "source": [
    "model.eval()\n",
    "(data, _) = next(iter(test_dataloader))\n",
    "data = data.to(torch.device('cuda'))\n",
    "\n",
    "_, reconstructed_data, _ = model(data)\n",
    "\n",
    "f = plt.figure(figsize=(16,8))\n",
    "ax = f.add_subplot(1,2,1)\n",
    "ground_truth = np.transpose((data[0].cpu().data + 0.5), (1, 2, 0))\n",
    "ax.imshow(ground_truth)\n",
    "ax.set_title('Ground truth')\n",
    "\n",
    "ax = f.add_subplot(1,2,2)\n",
    "reconstructed = np.transpose(reconstructed_data[0].cpu().data + 0.5, (1, 2, 0))\n",
    "ax.imshow(reconstructed)\n",
    "ax.set_title('Reconstructed Input')"
   ]
  },
  {
   "cell_type": "markdown",
   "metadata": {},
   "source": [
    "# Embedding Visualization"
   ]
  },
  {
   "cell_type": "code",
   "execution_count": 11,
   "metadata": {},
   "outputs": [
    {
     "data": {
      "text/plain": [
       "<matplotlib.collections.PathCollection at 0x7fcd40a64b20>"
      ]
     },
     "execution_count": 11,
     "metadata": {},
     "output_type": "execute_result"
    },
    {
     "data": {
      "image/png": "[encoded data removed]",
      "text/plain": [
       "<Figure size 432x288 with 1 Axes>"
      ]
     },
     "metadata": {
      "needs_background": "light"
     },
     "output_type": "display_data"
    }
   ],
   "source": [
    "proj = umap.UMAP(n_neighbors=3,\n",
    "                 min_dist=0.1,\n",
    "                 metric='cosine').fit_transform(model.module.vector_quantizer._embedding.weight.data.cpu())\n",
    "\n",
    "plt.scatter(proj[:,0], proj[:,1], alpha=0.3)"
   ]
  }
 ],
 "metadata": {
  "kernelspec": {
   "display_name": "Python 3",
   "language": "python",
   "name": "python3"
  },
  "language_info": {
   "codemirror_mode": {
    "name": "ipython",
    "version": 3
   },
   "file_extension": ".py",
   "mimetype": "text/x-python",
   "name": "python",
   "nbconvert_exporter": "python",
   "pygments_lexer": "ipython3",
   "version": "3.8.1"
  }
 },
 "nbformat": 4,
 "nbformat_minor": 4
}
